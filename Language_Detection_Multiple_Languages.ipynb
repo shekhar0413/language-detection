{
 "cells": [
  {
   "cell_type": "markdown",
   "metadata": {},
   "source": [
    "## Part 2: Extra Credits1: Model for all languages ##"
   ]
  },
  {
   "cell_type": "markdown",
   "metadata": {},
   "source": [
    "### Importing Libraries ###"
   ]
  },
  {
   "cell_type": "code",
   "execution_count": null,
   "metadata": {
    "collapsed": false,
    "jupyter": {
     "outputs_hidden": false
    }
   },
   "outputs": [],
   "source": [
    "from itertools import cycle\n",
    "\n",
    "from keras.layers import Activation, Dense, LSTM\n",
    "from keras.models import Sequential, load_model\n",
    "from keras.optimizers import RMSprop\n",
    "\n",
    "from matplotlib import pyplot as plt\n",
    "\n",
    "from sklearn.model_selection import train_test_split\n",
    "import sys\n",
    "import os\n",
    "import numpy as np\n",
    "import pandas as pd\n",
    "\n",
    "from sklearn.metrics import roc_curve\n",
    "from sklearn.metrics import auc\n",
    "import matplotlib.pyplot as plt\n",
    "import tensorflow as tf"
   ]
  },
  {
   "cell_type": "code",
   "execution_count": null,
   "metadata": {
    "collapsed": false,
    "jupyter": {
     "outputs_hidden": false
    }
   },
   "outputs": [],
   "source": [
    "sys.setrecursionlimit(10000)     # setting this higher in case a saved model is loaded\n",
    "RANDOM_STATE = 316\n",
    "np.random.seed(100)              # set seed for reproducibility\n",
    "tf.random.set_seed(100)          # set seed for reproducibility\n",
    "\n",
    "val_frac = 0.2                   # fraction of data to be set as validation set\n",
    "test_frac = 0.2                  # fraction of data to be set as test set\n",
    "\n",
    "\n",
    "TOTAL_LANGUAGES = ['dut', 'eng', 'frn', 'ger', 'grk', 'por', 'spn']\n",
    "\n",
    "rlabels = ['dut.true', 'eng.true', 'frn.true', 'ger.true', 'grk.true', 'por.true', 'spn.true']\n",
    "\n",
    "clabels = ['dut', 'eng', 'frn', 'ger', 'grk', 'por', 'spn']\n",
    "\n",
    "num_languages = 3\n",
    "LANGUAGES = TOTAL_LANGUAGES[:num_languages]\n",
    "rlabels = rlabels[:num_languages]\n",
    "clabels = clabels[:num_languages]\n",
    "\n",
    "\n",
    "maxlen = 20                      # length of sequence input to the LSTM model\n",
    "step = 3                         # the step size for cutting the input sequence into redundant sequences of size maxlen\n",
    "\n",
    "len_test = 5                     # length of the test \n",
    "num_test = 100                   # number of test substrings taken from ONE particular language\n",
    "\n",
    "EPOCHS = 5                       # number of epochs"
   ]
  },
  {
   "cell_type": "code",
   "execution_count": null,
   "metadata": {},
   "outputs": [],
   "source": [
    "def read_file(lang):\n",
    "    path = './subset_all/{}.txt'.format(lang)\n",
    "\n",
    "    text = open(path, encoding='utf-8').read().lower()\n",
    "    print('\\n\\n{} corpus length: {}'.format(lang, len(text)))\n",
    "    \n",
    "    chars = sorted(list(set(text)))\n",
    "    print('unique chars:', len(chars))\n",
    "    \n",
    "    return text, chars"
   ]
  },
  {
   "cell_type": "code",
   "execution_count": null,
   "metadata": {},
   "outputs": [],
   "source": [
    "def cut_sequences(text):\n",
    "    # cut the text in semi-redundant sequences of maxlen characters\n",
    "    sentences = []\n",
    "    next_chars = []\n",
    "    \n",
    "    for i in range(0, len(text) - maxlen, step):\n",
    "        sentences.append(text[i: i + maxlen])\n",
    "        next_chars.append(text[i + maxlen])\n",
    "    \n",
    "    print('nb sequences:', len(sentences))\n",
    "    \n",
    "    return sentences, next_chars"
   ]
  },
  {
   "cell_type": "code",
   "execution_count": null,
   "metadata": {},
   "outputs": [],
   "source": [
    "def vectorize(charset, sentences, next_chars):\n",
    "    print('Vectorizing text...')\n",
    "    \n",
    "    X = np.zeros((len(sentences), maxlen, len(charset)), dtype=np.bool)\n",
    "    y = np.zeros((len(sentences), len(charset)), dtype=np.bool)\n",
    "    \n",
    "    char_indices = dict((c, i) for i, c in enumerate(charset))\n",
    "    \n",
    "    for i, sentence in enumerate(sentences):\n",
    "        for t, char in enumerate(sentence):\n",
    "            X[i, t, char_indices[char]] = 1\n",
    "        y[i, char_indices[next_chars[i]]] = 1\n",
    "    \n",
    "    return X, y"
   ]
  },
  {
   "cell_type": "code",
   "execution_count": null,
   "metadata": {
    "collapsed": false,
    "jupyter": {
     "outputs_hidden": false
    }
   },
   "outputs": [],
   "source": [
    "def split_n_save(X, y, charset, lang):\n",
    "    X_train, X_test, y_train, y_test = \\\n",
    "        train_test_split(X, y, test_size=test_frac, random_state=RANDOM_STATE)\n",
    "    \n",
    "    np.savez_compressed('./splits_all/{}.npz'.format(lang),\n",
    "                        xtrain=X_train,\n",
    "                        xtest=X_test,\n",
    "                        ytrain=y_train,\n",
    "                        ytest=y_test,\n",
    "                       charset=charset)\n",
    "    \n",
    "    return X_train, X_test, y_train, y_test"
   ]
  },
  {
   "cell_type": "code",
   "execution_count": null,
   "metadata": {},
   "outputs": [],
   "source": [
    "def build_model(lang, charset):\n",
    "    # build the model: a single LSTM\n",
    "    model = Sequential(name=lang)\n",
    "    \n",
    "    model.add(LSTM(128, input_shape=(maxlen, len(charset))))\n",
    "    \n",
    "    model.add(Dense(len(charset)))\n",
    "    model.add(Activation('softmax'))\n",
    "    \n",
    "    optimizer = RMSprop(learning_rate=0.01)\n",
    "    model.compile(loss='categorical_crossentropy', optimizer=optimizer)\n",
    "    \n",
    "    return model"
   ]
  },
  {
   "cell_type": "code",
   "execution_count": null,
   "metadata": {},
   "outputs": [],
   "source": [
    "def normalize_preds(preds, temperature=1.0):\n",
    "    # helper function to sample an index from a probability array\n",
    "    preds = np.asarray(preds).astype('float64')\n",
    "    preds = np.log(preds) / temperature\n",
    "    exp_preds = np.exp(preds)\n",
    "    preds = exp_preds / np.sum(exp_preds)\n",
    "    \n",
    "    return preds"
   ]
  },
  {
   "cell_type": "code",
   "execution_count": null,
   "metadata": {},
   "outputs": [],
   "source": [
    "def train_n_save(model, X, y):\n",
    "    # train the model for 5 epochs\n",
    "    model.fit(X, y, batch_size=128, epochs=EPOCHS, verbose=2, validation_split=val_frac)\n",
    "    \n",
    "    model.save('./models_all/{}.h5'.format(model.name))"
   ]
  },
  {
   "cell_type": "code",
   "execution_count": null,
   "metadata": {
    "collapsed": false,
    "jupyter": {
     "outputs_hidden": false
    }
   },
   "outputs": [],
   "source": [
    "charset = set()\n",
    "for lang in LANGUAGES:\n",
    "    text, chars = read_file(lang)\n",
    "    charset = charset.union(chars)\n",
    "\n",
    "for lang in LANGUAGES:\n",
    "    text, _ = read_file(lang)\n",
    "    \n",
    "    sentences, next_chars = cut_sequences(text)\n",
    "    \n",
    "    X, y = vectorize(charset, sentences, next_chars)\n",
    "    \n",
    "    X_train, X_test, y_train, y_test = split_n_save(X, y, charset, lang)\n",
    "    \n",
    "    model = build_model(lang, charset)\n",
    "    train_n_save(model, X_train, y_train)"
   ]
  },
  {
   "cell_type": "code",
   "execution_count": null,
   "metadata": {},
   "outputs": [],
   "source": [
    "def load_the_model(lang):\n",
    "    model = load_model('./models_all/{}.h5'.format(lang))\n",
    "    \n",
    "    data = np.load('./splits_all/{}.npz'.format(lang))\n",
    "    \n",
    "    X_train = data['xtrain']\n",
    "    X_test = data['xtest']\n",
    "    y_train = data['ytrain']\n",
    "    y_test = data['ytest']\n",
    "    \n",
    "    return model, X_train, X_test, y_train, y_test"
   ]
  },
  {
   "cell_type": "code",
   "execution_count": null,
   "metadata": {
    "collapsed": false,
    "jupyter": {
     "outputs_hidden": false
    }
   },
   "outputs": [],
   "source": [
    "def select_n_subs(X_test): \n",
    "    # empty array, with length as 100, maxlen is 40 (we will only set 5 characters to be true)\n",
    "    test = np.zeros((num_test, len_test, len(charset)), dtype=np.bool)\n",
    "    counter = 0\n",
    "    \n",
    "    for line in cycle(X_test):   # cycle through a line in the test set\n",
    "        shouldgo = np.random.rand()   # select a line randomly\n",
    "        if shouldgo >= 0.5:\n",
    "            i = np.random.choice(len(line) - len_test)\n",
    "            test[counter,:,:] = line[i:i+5,:]\n",
    "            counter += 1\n",
    "        if counter == num_test:   # break if 100 sub strings have been selected\n",
    "            break\n",
    "    return test"
   ]
  },
  {
   "cell_type": "code",
   "execution_count": null,
   "metadata": {
    "collapsed": false,
    "jupyter": {
     "outputs_hidden": false
    }
   },
   "outputs": [],
   "source": [
    "# Create the test substring dataset and the labels\n",
    "\n",
    "test = np.empty((0, len_test, len(charset)), dtype = np.bool)\n",
    "labels_test = np.zeros((num_test*len(LANGUAGES), len(LANGUAGES)), dtype = np.int64)    # one hot encoding for the labels\n",
    "for i, lang in enumerate(LANGUAGES):\n",
    "    data = np.load('./splits_all/{}.npz'.format(lang))\n",
    "    test = np.vstack((test,select_n_subs(data['xtest'])))\n",
    "    labels_test[(i*num_test):(i+1)*num_test, i] = 1.0"
   ]
  },
  {
   "cell_type": "code",
   "execution_count": null,
   "metadata": {
    "collapsed": false,
    "jupyter": {
     "outputs_hidden": false
    }
   },
   "outputs": [],
   "source": [
    "# load the models\n",
    "def load_all_models():\n",
    "    models = []\n",
    "    for count, lang in enumerate(LANGUAGES, start = 1):\n",
    "        print(\"loading model no: {}\".format(count))\n",
    "        models.append(load_the_model(lang)[0])\n",
    "    return models"
   ]
  },
  {
   "cell_type": "code",
   "execution_count": null,
   "metadata": {},
   "outputs": [],
   "source": [
    "# make prediction on the test sets\n",
    "def predict(models, test):\n",
    "    likelihoods = np.zeros((len(test), len(models)), dtype = np.float64)\n",
    "    for i in range(len(test)):\n",
    "        if((i+1)%100 == 0):\n",
    "            print(\"predicting on sample: {} out of {} samples\".format(i+1, len(test)))\n",
    "        for model_index, model in enumerate(models):\n",
    "            \n",
    "            model_preds = np.zeros((len_test,), dtype = np.float64)   # store probabilities for each character for a model\n",
    "            \n",
    "            start_seq = np.zeros((1, maxlen, test.shape[-1]), dtype = np.float64)\n",
    "            start_seq[:,:,:] = 1.0 / len(charset)\n",
    "            \n",
    "            for j in range(len_test):\n",
    "                \n",
    "                preds = model.predict(start_seq, verbose=0)[0]   # probability distribution of the 1st element given by the model\n",
    "                preds = normalize_preds(preds)\n",
    "          \n",
    "                # find the probability of the actual test chracter as predicted by the given model\n",
    "                # boolean array with true in the actual character position\n",
    "                model_preds[j] = preds[test[i,j,:]]\n",
    "                \n",
    "                # remove the first (index 0) character in the start sequence and add the first character of the test substring\n",
    "                # to the end of the start sequence to update the input to the LSTM\n",
    "                start_seq[:,:-1,:] = start_seq[:,1:,:]\n",
    "                start_seq[:,-1,:] = test[i,j,:]\n",
    "             \n",
    "            likelihoods[i,model_index] = sum(np.log(model_preds))\n",
    "    \n",
    "    return likelihoods\n",
    "    "
   ]
  },
  {
   "cell_type": "code",
   "execution_count": null,
   "metadata": {
    "collapsed": false,
    "jupyter": {
     "outputs_hidden": false
    }
   },
   "outputs": [],
   "source": [
    "def confusion_table():\n",
    "    models = load_all_models()\n",
    "    likelihoods = predict(models, test)\n",
    "    cm = np.zeros((len(LANGUAGES), len(LANGUAGES)), dtype = np.int64)\n",
    "    cm = pd.DataFrame(cm, index = rlabels, columns = clabels)\n",
    "    for i in range(len(test)):\n",
    "        predicted = np.argmax(likelihoods[i,:])\n",
    "        real = np.argmax(labels_test[i,:])\n",
    "        cm.iloc[real, predicted] += 1\n",
    "    \n",
    "    accuracy = (np.trace(cm))/len(labels_test)\n",
    "    cm['Total'] = cm.sum(axis=1)\n",
    "    cm.loc['Total']= cm.sum()\n",
    "    print(\"The overall accuracy is = {:3.1f} %\".format(accuracy*100))\n",
    "    print(\"The Confusion Matrix is below:\")\n",
    "    print(cm)\n",
    "    \n",
    "    return (likelihoods, accuracy, cm)"
   ]
  },
  {
   "cell_type": "code",
   "execution_count": null,
   "metadata": {
    "collapsed": false,
    "jupyter": {
     "outputs_hidden": false
    }
   },
   "outputs": [],
   "source": [
    "likelihoods, accuracy, cm = confusion_table()"
   ]
  }
 ],
 "metadata": {
  "kernelspec": {
   "display_name": "Python 3 (ipykernel)",
   "language": "python",
   "name": "python3"
  },
  "language_info": {
   "codemirror_mode": {
    "name": "ipython",
    "version": 3
   },
   "file_extension": ".py",
   "mimetype": "text/x-python",
   "name": "python",
   "nbconvert_exporter": "python",
   "pygments_lexer": "ipython3",
   "version": "3.12.4"
  }
 },
 "nbformat": 4,
 "nbformat_minor": 4
}
